{
  "nbformat": 4,
  "nbformat_minor": 0,
  "metadata": {
    "colab": {
      "name": "IPL_Matches_Data_Visualization.ipynb",
      "provenance": [],
      "collapsed_sections": []
    },
    "kernelspec": {
      "name": "python3",
      "display_name": "Python 3"
    },
    "language_info": {
      "name": "python"
    }
  },
  "cells": [
    {
      "cell_type": "code",
      "metadata": {
        "id": "z0Z7slGKfemh"
      },
      "source": [
        "#Importing required libraries\n",
        "import pandas as pd\n",
        "import numpy as np\n",
        "import matplotlib.pyplot as plt\n",
        "import seaborn as sns\n",
        "import warnings\n",
        "warnings.filterwarnings('ignore')"
      ],
      "execution_count": null,
      "outputs": []
    },
    {
      "cell_type": "code",
      "metadata": {
        "id": "53vN4OsTfkCT"
      },
      "source": [
        "#Loading ipl matches dataset\n",
        "df = pd.read_csv(\"/content/drive/MyDrive/ML_Projects/IPL_Matches_DataVisualization/IPL Matches 2008-2020.csv\")"
      ],
      "execution_count": null,
      "outputs": []
    },
    {
      "cell_type": "code",
      "metadata": {
        "colab": {
          "base_uri": "https://localhost:8080/",
          "height": 411
        },
        "id": "OuXgNBi1fkFl",
        "outputId": "13a7d7e0-ac11-4c4c-eef9-8674bfe5ff0e"
      },
      "source": [
        "df.head()"
      ],
      "execution_count": null,
      "outputs": [
        {
          "output_type": "execute_result",
          "data": {
            "text/html": [
              "<div>\n",
              "<style scoped>\n",
              "    .dataframe tbody tr th:only-of-type {\n",
              "        vertical-align: middle;\n",
              "    }\n",
              "\n",
              "    .dataframe tbody tr th {\n",
              "        vertical-align: top;\n",
              "    }\n",
              "\n",
              "    .dataframe thead th {\n",
              "        text-align: right;\n",
              "    }\n",
              "</style>\n",
              "<table border=\"1\" class=\"dataframe\">\n",
              "  <thead>\n",
              "    <tr style=\"text-align: right;\">\n",
              "      <th></th>\n",
              "      <th>id</th>\n",
              "      <th>city</th>\n",
              "      <th>date</th>\n",
              "      <th>player_of_match</th>\n",
              "      <th>venue</th>\n",
              "      <th>neutral_venue</th>\n",
              "      <th>team1</th>\n",
              "      <th>team2</th>\n",
              "      <th>toss_winner</th>\n",
              "      <th>toss_decision</th>\n",
              "      <th>winner</th>\n",
              "      <th>result</th>\n",
              "      <th>result_margin</th>\n",
              "      <th>eliminator</th>\n",
              "      <th>method</th>\n",
              "      <th>umpire1</th>\n",
              "      <th>umpire2</th>\n",
              "    </tr>\n",
              "  </thead>\n",
              "  <tbody>\n",
              "    <tr>\n",
              "      <th>0</th>\n",
              "      <td>335982</td>\n",
              "      <td>Bangalore</td>\n",
              "      <td>2008-04-18</td>\n",
              "      <td>BB McCullum</td>\n",
              "      <td>M Chinnaswamy Stadium</td>\n",
              "      <td>0</td>\n",
              "      <td>Royal Challengers Bangalore</td>\n",
              "      <td>Kolkata Knight Riders</td>\n",
              "      <td>Royal Challengers Bangalore</td>\n",
              "      <td>field</td>\n",
              "      <td>Kolkata Knight Riders</td>\n",
              "      <td>runs</td>\n",
              "      <td>140.0</td>\n",
              "      <td>N</td>\n",
              "      <td>NaN</td>\n",
              "      <td>Asad Rauf</td>\n",
              "      <td>RE Koertzen</td>\n",
              "    </tr>\n",
              "    <tr>\n",
              "      <th>1</th>\n",
              "      <td>335983</td>\n",
              "      <td>Chandigarh</td>\n",
              "      <td>2008-04-19</td>\n",
              "      <td>MEK Hussey</td>\n",
              "      <td>Punjab Cricket Association Stadium, Mohali</td>\n",
              "      <td>0</td>\n",
              "      <td>Kings XI Punjab</td>\n",
              "      <td>Chennai Super Kings</td>\n",
              "      <td>Chennai Super Kings</td>\n",
              "      <td>bat</td>\n",
              "      <td>Chennai Super Kings</td>\n",
              "      <td>runs</td>\n",
              "      <td>33.0</td>\n",
              "      <td>N</td>\n",
              "      <td>NaN</td>\n",
              "      <td>MR Benson</td>\n",
              "      <td>SL Shastri</td>\n",
              "    </tr>\n",
              "    <tr>\n",
              "      <th>2</th>\n",
              "      <td>335984</td>\n",
              "      <td>Delhi</td>\n",
              "      <td>2008-04-19</td>\n",
              "      <td>MF Maharoof</td>\n",
              "      <td>Feroz Shah Kotla</td>\n",
              "      <td>0</td>\n",
              "      <td>Delhi Daredevils</td>\n",
              "      <td>Rajasthan Royals</td>\n",
              "      <td>Rajasthan Royals</td>\n",
              "      <td>bat</td>\n",
              "      <td>Delhi Daredevils</td>\n",
              "      <td>wickets</td>\n",
              "      <td>9.0</td>\n",
              "      <td>N</td>\n",
              "      <td>NaN</td>\n",
              "      <td>Aleem Dar</td>\n",
              "      <td>GA Pratapkumar</td>\n",
              "    </tr>\n",
              "    <tr>\n",
              "      <th>3</th>\n",
              "      <td>335985</td>\n",
              "      <td>Mumbai</td>\n",
              "      <td>2008-04-20</td>\n",
              "      <td>MV Boucher</td>\n",
              "      <td>Wankhede Stadium</td>\n",
              "      <td>0</td>\n",
              "      <td>Mumbai Indians</td>\n",
              "      <td>Royal Challengers Bangalore</td>\n",
              "      <td>Mumbai Indians</td>\n",
              "      <td>bat</td>\n",
              "      <td>Royal Challengers Bangalore</td>\n",
              "      <td>wickets</td>\n",
              "      <td>5.0</td>\n",
              "      <td>N</td>\n",
              "      <td>NaN</td>\n",
              "      <td>SJ Davis</td>\n",
              "      <td>DJ Harper</td>\n",
              "    </tr>\n",
              "    <tr>\n",
              "      <th>4</th>\n",
              "      <td>335986</td>\n",
              "      <td>Kolkata</td>\n",
              "      <td>2008-04-20</td>\n",
              "      <td>DJ Hussey</td>\n",
              "      <td>Eden Gardens</td>\n",
              "      <td>0</td>\n",
              "      <td>Kolkata Knight Riders</td>\n",
              "      <td>Deccan Chargers</td>\n",
              "      <td>Deccan Chargers</td>\n",
              "      <td>bat</td>\n",
              "      <td>Kolkata Knight Riders</td>\n",
              "      <td>wickets</td>\n",
              "      <td>5.0</td>\n",
              "      <td>N</td>\n",
              "      <td>NaN</td>\n",
              "      <td>BF Bowden</td>\n",
              "      <td>K Hariharan</td>\n",
              "    </tr>\n",
              "  </tbody>\n",
              "</table>\n",
              "</div>"
            ],
            "text/plain": [
              "       id        city        date  ... method    umpire1         umpire2\n",
              "0  335982   Bangalore  2008-04-18  ...    NaN  Asad Rauf     RE Koertzen\n",
              "1  335983  Chandigarh  2008-04-19  ...    NaN  MR Benson      SL Shastri\n",
              "2  335984       Delhi  2008-04-19  ...    NaN  Aleem Dar  GA Pratapkumar\n",
              "3  335985      Mumbai  2008-04-20  ...    NaN   SJ Davis       DJ Harper\n",
              "4  335986     Kolkata  2008-04-20  ...    NaN  BF Bowden     K Hariharan\n",
              "\n",
              "[5 rows x 17 columns]"
            ]
          },
          "metadata": {
            "tags": []
          },
          "execution_count": 4
        }
      ]
    },
    {
      "cell_type": "code",
      "metadata": {
        "colab": {
          "base_uri": "https://localhost:8080/"
        },
        "id": "tynYjegtfkI0",
        "outputId": "037c6b5e-ef00-4a50-82f9-d65651d44568"
      },
      "source": [
        "#shape of dataset\n",
        "df.shape"
      ],
      "execution_count": null,
      "outputs": [
        {
          "output_type": "execute_result",
          "data": {
            "text/plain": [
              "(816, 17)"
            ]
          },
          "metadata": {
            "tags": []
          },
          "execution_count": 5
        }
      ]
    },
    {
      "cell_type": "code",
      "metadata": {
        "colab": {
          "base_uri": "https://localhost:8080/"
        },
        "id": "-eR7XhzGfkL2",
        "outputId": "97a57c65-eb13-433d-d290-189a91ef1290"
      },
      "source": [
        "df.info()"
      ],
      "execution_count": null,
      "outputs": [
        {
          "output_type": "stream",
          "text": [
            "<class 'pandas.core.frame.DataFrame'>\n",
            "RangeIndex: 816 entries, 0 to 815\n",
            "Data columns (total 17 columns):\n",
            " #   Column           Non-Null Count  Dtype  \n",
            "---  ------           --------------  -----  \n",
            " 0   id               816 non-null    int64  \n",
            " 1   city             803 non-null    object \n",
            " 2   date             816 non-null    object \n",
            " 3   player_of_match  812 non-null    object \n",
            " 4   venue            816 non-null    object \n",
            " 5   neutral_venue    816 non-null    int64  \n",
            " 6   team1            816 non-null    object \n",
            " 7   team2            816 non-null    object \n",
            " 8   toss_winner      816 non-null    object \n",
            " 9   toss_decision    816 non-null    object \n",
            " 10  winner           812 non-null    object \n",
            " 11  result           812 non-null    object \n",
            " 12  result_margin    799 non-null    float64\n",
            " 13  eliminator       812 non-null    object \n",
            " 14  method           19 non-null     object \n",
            " 15  umpire1          816 non-null    object \n",
            " 16  umpire2          816 non-null    object \n",
            "dtypes: float64(1), int64(2), object(14)\n",
            "memory usage: 108.5+ KB\n"
          ],
          "name": "stdout"
        }
      ]
    },
    {
      "cell_type": "code",
      "metadata": {
        "colab": {
          "base_uri": "https://localhost:8080/",
          "height": 297
        },
        "id": "PhTEyEllfkPK",
        "outputId": "b4d4eae0-5846-4e03-a0d8-57651e7b6e48"
      },
      "source": [
        "#statistical summary of dataset\n",
        "df.describe()"
      ],
      "execution_count": null,
      "outputs": [
        {
          "output_type": "execute_result",
          "data": {
            "text/html": [
              "<div>\n",
              "<style scoped>\n",
              "    .dataframe tbody tr th:only-of-type {\n",
              "        vertical-align: middle;\n",
              "    }\n",
              "\n",
              "    .dataframe tbody tr th {\n",
              "        vertical-align: top;\n",
              "    }\n",
              "\n",
              "    .dataframe thead th {\n",
              "        text-align: right;\n",
              "    }\n",
              "</style>\n",
              "<table border=\"1\" class=\"dataframe\">\n",
              "  <thead>\n",
              "    <tr style=\"text-align: right;\">\n",
              "      <th></th>\n",
              "      <th>id</th>\n",
              "      <th>neutral_venue</th>\n",
              "      <th>result_margin</th>\n",
              "    </tr>\n",
              "  </thead>\n",
              "  <tbody>\n",
              "    <tr>\n",
              "      <th>count</th>\n",
              "      <td>8.160000e+02</td>\n",
              "      <td>816.000000</td>\n",
              "      <td>799.000000</td>\n",
              "    </tr>\n",
              "    <tr>\n",
              "      <th>mean</th>\n",
              "      <td>7.563496e+05</td>\n",
              "      <td>0.094363</td>\n",
              "      <td>17.321652</td>\n",
              "    </tr>\n",
              "    <tr>\n",
              "      <th>std</th>\n",
              "      <td>3.058943e+05</td>\n",
              "      <td>0.292512</td>\n",
              "      <td>22.068427</td>\n",
              "    </tr>\n",
              "    <tr>\n",
              "      <th>min</th>\n",
              "      <td>3.359820e+05</td>\n",
              "      <td>0.000000</td>\n",
              "      <td>1.000000</td>\n",
              "    </tr>\n",
              "    <tr>\n",
              "      <th>25%</th>\n",
              "      <td>5.012278e+05</td>\n",
              "      <td>0.000000</td>\n",
              "      <td>6.000000</td>\n",
              "    </tr>\n",
              "    <tr>\n",
              "      <th>50%</th>\n",
              "      <td>7.292980e+05</td>\n",
              "      <td>0.000000</td>\n",
              "      <td>8.000000</td>\n",
              "    </tr>\n",
              "    <tr>\n",
              "      <th>75%</th>\n",
              "      <td>1.082626e+06</td>\n",
              "      <td>0.000000</td>\n",
              "      <td>19.500000</td>\n",
              "    </tr>\n",
              "    <tr>\n",
              "      <th>max</th>\n",
              "      <td>1.237181e+06</td>\n",
              "      <td>1.000000</td>\n",
              "      <td>146.000000</td>\n",
              "    </tr>\n",
              "  </tbody>\n",
              "</table>\n",
              "</div>"
            ],
            "text/plain": [
              "                 id  neutral_venue  result_margin\n",
              "count  8.160000e+02     816.000000     799.000000\n",
              "mean   7.563496e+05       0.094363      17.321652\n",
              "std    3.058943e+05       0.292512      22.068427\n",
              "min    3.359820e+05       0.000000       1.000000\n",
              "25%    5.012278e+05       0.000000       6.000000\n",
              "50%    7.292980e+05       0.000000       8.000000\n",
              "75%    1.082626e+06       0.000000      19.500000\n",
              "max    1.237181e+06       1.000000     146.000000"
            ]
          },
          "metadata": {
            "tags": []
          },
          "execution_count": 7
        }
      ]
    },
    {
      "cell_type": "code",
      "metadata": {
        "colab": {
          "base_uri": "https://localhost:8080/"
        },
        "id": "N3p4V-vZfkSL",
        "outputId": "d4016a65-0aaf-4256-8218-47ca8ed162be"
      },
      "source": [
        "#columns of dataset\n",
        "df.columns"
      ],
      "execution_count": null,
      "outputs": [
        {
          "output_type": "execute_result",
          "data": {
            "text/plain": [
              "Index(['id', 'city', 'date', 'player_of_match', 'venue', 'neutral_venue',\n",
              "       'team1', 'team2', 'toss_winner', 'toss_decision', 'winner', 'result',\n",
              "       'result_margin', 'eliminator', 'method', 'umpire1', 'umpire2'],\n",
              "      dtype='object')"
            ]
          },
          "metadata": {
            "tags": []
          },
          "execution_count": 8
        }
      ]
    },
    {
      "cell_type": "code",
      "metadata": {
        "colab": {
          "base_uri": "https://localhost:8080/"
        },
        "id": "kpqE8_RmfkVq",
        "outputId": "25e8711c-21b2-41e3-9d49-d1fd73c63c0f"
      },
      "source": [
        "#Checking missing values in dataset\n",
        "df.isnull().sum()"
      ],
      "execution_count": null,
      "outputs": [
        {
          "output_type": "execute_result",
          "data": {
            "text/plain": [
              "id                   0\n",
              "city                13\n",
              "date                 0\n",
              "player_of_match      4\n",
              "venue                0\n",
              "neutral_venue        0\n",
              "team1                0\n",
              "team2                0\n",
              "toss_winner          0\n",
              "toss_decision        0\n",
              "winner               4\n",
              "result               4\n",
              "result_margin       17\n",
              "eliminator           4\n",
              "method             797\n",
              "umpire1              0\n",
              "umpire2              0\n",
              "dtype: int64"
            ]
          },
          "metadata": {
            "tags": []
          },
          "execution_count": 9
        }
      ]
    },
    {
      "cell_type": "code",
      "metadata": {
        "id": "I3Qyj8HBfkY0"
      },
      "source": [
        "#drop the 'method' feature\n",
        "df.drop('method', axis = 1, inplace = True)"
      ],
      "execution_count": null,
      "outputs": []
    },
    {
      "cell_type": "code",
      "metadata": {
        "colab": {
          "base_uri": "https://localhost:8080/"
        },
        "id": "ZaZMgMKWfkcV",
        "outputId": "946d1702-4e3f-4586-dca7-810107c23aff"
      },
      "source": [
        "#Let's see the most wins in IPL match\n",
        "df['winner'].value_counts()"
      ],
      "execution_count": null,
      "outputs": [
        {
          "output_type": "execute_result",
          "data": {
            "text/plain": [
              "Mumbai Indians                 120\n",
              "Chennai Super Kings            106\n",
              "Kolkata Knight Riders           99\n",
              "Royal Challengers Bangalore     91\n",
              "Kings XI Punjab                 88\n",
              "Rajasthan Royals                81\n",
              "Delhi Daredevils                67\n",
              "Sunrisers Hyderabad             66\n",
              "Deccan Chargers                 29\n",
              "Delhi Capitals                  19\n",
              "Gujarat Lions                   13\n",
              "Pune Warriors                   12\n",
              "Rising Pune Supergiant          10\n",
              "Kochi Tuskers Kerala             6\n",
              "Rising Pune Supergiants          5\n",
              "Name: winner, dtype: int64"
            ]
          },
          "metadata": {
            "tags": []
          },
          "execution_count": 11
        }
      ]
    },
    {
      "cell_type": "markdown",
      "metadata": {
        "id": "Zc9xoFglkVsa"
      },
      "source": [
        "* Most number of winners in IPL matches are Mumbai Indians and Chennai Super Kings."
      ]
    },
    {
      "cell_type": "code",
      "metadata": {
        "colab": {
          "base_uri": "https://localhost:8080/",
          "height": 739
        },
        "id": "-JqypquWfkfo",
        "outputId": "45673878-a7a2-4a98-b4fb-b245342f4841"
      },
      "source": [
        "plt.figure(figsize = (15,10))\n",
        "sns.countplot(df['winner'])\n",
        "plt.xticks(rotation = 90)\n",
        "plt.show()"
      ],
      "execution_count": null,
      "outputs": [
        {
          "output_type": "display_data",
          "data": {
            "image/png": "[encoded data removed]",
            "text/plain": [
              "<Figure size 1080x720 with 1 Axes>"
            ]
          },
          "metadata": {
            "tags": [],
            "needs_background": "light"
          }
        }
      ]
    },
    {
      "cell_type": "code",
      "metadata": {
        "colab": {
          "base_uri": "https://localhost:8080/"
        },
        "id": "W-5i4eBNfkjN",
        "outputId": "985f51b9-e5f3-4167-b25b-c516915640d2"
      },
      "source": [
        "#Let's see the most wins in eliminator\n",
        "df['eliminator'].value_counts()"
      ],
      "execution_count": null,
      "outputs": [
        {
          "output_type": "execute_result",
          "data": {
            "text/plain": [
              "N    799\n",
              "Y     13\n",
              "Name: eliminator, dtype: int64"
            ]
          },
          "metadata": {
            "tags": []
          },
          "execution_count": 13
        }
      ]
    },
    {
      "cell_type": "code",
      "metadata": {
        "colab": {
          "base_uri": "https://localhost:8080/",
          "height": 647
        },
        "id": "N4lLksZOfkm0",
        "outputId": "48b42642-d94e-4e90-910e-a213540d3104"
      },
      "source": [
        "plt.figure(figsize = (12,8))\n",
        "sns.countplot(df['winner'][df['eliminator'] == 'Y'], data = df)\n",
        "plt.title(\"Most Wins in Eliminator\", fontsize = 12)\n",
        "plt.xticks(rotation = 90)\n",
        "plt.show()"
      ],
      "execution_count": null,
      "outputs": [
        {
          "output_type": "display_data",
          "data": {
            "image/png": "[encoded data removed]",
            "text/plain": [
              "<Figure size 864x576 with 1 Axes>"
            ]
          },
          "metadata": {
            "tags": [],
            "needs_background": "light"
          }
        }
      ]
    },
    {
      "cell_type": "markdown",
      "metadata": {
        "id": "Ju3bcqt-JPFe"
      },
      "source": [
        "* From the plot we can say that most eliminator winner is Kings XI Punjab."
      ]
    },
    {
      "cell_type": "code",
      "metadata": {
        "colab": {
          "base_uri": "https://localhost:8080/"
        },
        "id": "ema9O79xfkqj",
        "outputId": "c3ec97f9-d418-4bac-c676-a0eac64a30a4"
      },
      "source": [
        "#Toss Decision\n",
        "df['toss_winner'].value_counts()"
      ],
      "execution_count": null,
      "outputs": [
        {
          "output_type": "execute_result",
          "data": {
            "text/plain": [
              "Mumbai Indians                 106\n",
              "Kolkata Knight Riders           98\n",
              "Chennai Super Kings             97\n",
              "Rajasthan Royals                87\n",
              "Royal Challengers Bangalore     87\n",
              "Kings XI Punjab                 85\n",
              "Delhi Daredevils                80\n",
              "Sunrisers Hyderabad             57\n",
              "Deccan Chargers                 43\n",
              "Delhi Capitals                  20\n",
              "Pune Warriors                   20\n",
              "Gujarat Lions                   15\n",
              "Kochi Tuskers Kerala             8\n",
              "Rising Pune Supergiants          7\n",
              "Rising Pune Supergiant           6\n",
              "Name: toss_winner, dtype: int64"
            ]
          },
          "metadata": {
            "tags": []
          },
          "execution_count": 15
        }
      ]
    },
    {
      "cell_type": "code",
      "metadata": {
        "colab": {
          "base_uri": "https://localhost:8080/"
        },
        "id": "8IgsqGEefkuU",
        "outputId": "8bba6192-48e0-4a7d-88d2-7c250b621412"
      },
      "source": [
        "df['toss_decision'].value_counts()"
      ],
      "execution_count": null,
      "outputs": [
        {
          "output_type": "execute_result",
          "data": {
            "text/plain": [
              "field    496\n",
              "bat      320\n",
              "Name: toss_decision, dtype: int64"
            ]
          },
          "metadata": {
            "tags": []
          },
          "execution_count": 16
        }
      ]
    },
    {
      "cell_type": "code",
      "metadata": {
        "id": "Gm4fWUmofkxs"
      },
      "source": [
        "teams = df['toss_winner'].unique()\n",
        "decision_making = pd.DataFrame([], columns = ['Toss Winner', 'Decision', 'Times'])\n",
        "\n",
        "for id, element in enumerate(teams):\n",
        "  temp_bat = df[(df['toss_winner'] == element) & (df['toss_decision'] == 'bat')]\n",
        "  temp_field = df[(df['toss_winner'] == element) & (df['toss_decision'] == 'field')]  \n",
        "\n",
        "  #now we append both variable in dataframe decision_making\n",
        "  decision_making = decision_making.append({\"Toss Winner\": element, \"Decision\": 'bat', \"Times\": temp_bat['toss_winner'].count()}, ignore_index = True)\n",
        "  decision_making = decision_making.append({\"Toss Winner\": element, \"Decision\": 'fields', \"Times\": temp_bat['toss_winner'].count()}, ignore_index = True)"
      ],
      "execution_count": null,
      "outputs": []
    },
    {
      "cell_type": "code",
      "metadata": {
        "id": "QiRSkePhfk1i",
        "colab": {
          "base_uri": "https://localhost:8080/",
          "height": 979
        },
        "outputId": "33912fc5-b9d4-43d1-db5e-0dccdc736d77"
      },
      "source": [
        "decision_making"
      ],
      "execution_count": null,
      "outputs": [
        {
          "output_type": "execute_result",
          "data": {
            "text/html": [
              "<div>\n",
              "<style scoped>\n",
              "    .dataframe tbody tr th:only-of-type {\n",
              "        vertical-align: middle;\n",
              "    }\n",
              "\n",
              "    .dataframe tbody tr th {\n",
              "        vertical-align: top;\n",
              "    }\n",
              "\n",
              "    .dataframe thead th {\n",
              "        text-align: right;\n",
              "    }\n",
              "</style>\n",
              "<table border=\"1\" class=\"dataframe\">\n",
              "  <thead>\n",
              "    <tr style=\"text-align: right;\">\n",
              "      <th></th>\n",
              "      <th>Toss Winner</th>\n",
              "      <th>Decision</th>\n",
              "      <th>Times</th>\n",
              "    </tr>\n",
              "  </thead>\n",
              "  <tbody>\n",
              "    <tr>\n",
              "      <th>0</th>\n",
              "      <td>Royal Challengers Bangalore</td>\n",
              "      <td>bat</td>\n",
              "      <td>24</td>\n",
              "    </tr>\n",
              "    <tr>\n",
              "      <th>1</th>\n",
              "      <td>Royal Challengers Bangalore</td>\n",
              "      <td>fields</td>\n",
              "      <td>24</td>\n",
              "    </tr>\n",
              "    <tr>\n",
              "      <th>2</th>\n",
              "      <td>Chennai Super Kings</td>\n",
              "      <td>bat</td>\n",
              "      <td>51</td>\n",
              "    </tr>\n",
              "    <tr>\n",
              "      <th>3</th>\n",
              "      <td>Chennai Super Kings</td>\n",
              "      <td>fields</td>\n",
              "      <td>51</td>\n",
              "    </tr>\n",
              "    <tr>\n",
              "      <th>4</th>\n",
              "      <td>Rajasthan Royals</td>\n",
              "      <td>bat</td>\n",
              "      <td>34</td>\n",
              "    </tr>\n",
              "    <tr>\n",
              "      <th>5</th>\n",
              "      <td>Rajasthan Royals</td>\n",
              "      <td>fields</td>\n",
              "      <td>34</td>\n",
              "    </tr>\n",
              "    <tr>\n",
              "      <th>6</th>\n",
              "      <td>Mumbai Indians</td>\n",
              "      <td>bat</td>\n",
              "      <td>48</td>\n",
              "    </tr>\n",
              "    <tr>\n",
              "      <th>7</th>\n",
              "      <td>Mumbai Indians</td>\n",
              "      <td>fields</td>\n",
              "      <td>48</td>\n",
              "    </tr>\n",
              "    <tr>\n",
              "      <th>8</th>\n",
              "      <td>Deccan Chargers</td>\n",
              "      <td>bat</td>\n",
              "      <td>24</td>\n",
              "    </tr>\n",
              "    <tr>\n",
              "      <th>9</th>\n",
              "      <td>Deccan Chargers</td>\n",
              "      <td>fields</td>\n",
              "      <td>24</td>\n",
              "    </tr>\n",
              "    <tr>\n",
              "      <th>10</th>\n",
              "      <td>Kings XI Punjab</td>\n",
              "      <td>bat</td>\n",
              "      <td>27</td>\n",
              "    </tr>\n",
              "    <tr>\n",
              "      <th>11</th>\n",
              "      <td>Kings XI Punjab</td>\n",
              "      <td>fields</td>\n",
              "      <td>27</td>\n",
              "    </tr>\n",
              "    <tr>\n",
              "      <th>12</th>\n",
              "      <td>Kolkata Knight Riders</td>\n",
              "      <td>bat</td>\n",
              "      <td>34</td>\n",
              "    </tr>\n",
              "    <tr>\n",
              "      <th>13</th>\n",
              "      <td>Kolkata Knight Riders</td>\n",
              "      <td>fields</td>\n",
              "      <td>34</td>\n",
              "    </tr>\n",
              "    <tr>\n",
              "      <th>14</th>\n",
              "      <td>Delhi Daredevils</td>\n",
              "      <td>bat</td>\n",
              "      <td>29</td>\n",
              "    </tr>\n",
              "    <tr>\n",
              "      <th>15</th>\n",
              "      <td>Delhi Daredevils</td>\n",
              "      <td>fields</td>\n",
              "      <td>29</td>\n",
              "    </tr>\n",
              "    <tr>\n",
              "      <th>16</th>\n",
              "      <td>Kochi Tuskers Kerala</td>\n",
              "      <td>bat</td>\n",
              "      <td>3</td>\n",
              "    </tr>\n",
              "    <tr>\n",
              "      <th>17</th>\n",
              "      <td>Kochi Tuskers Kerala</td>\n",
              "      <td>fields</td>\n",
              "      <td>3</td>\n",
              "    </tr>\n",
              "    <tr>\n",
              "      <th>18</th>\n",
              "      <td>Pune Warriors</td>\n",
              "      <td>bat</td>\n",
              "      <td>11</td>\n",
              "    </tr>\n",
              "    <tr>\n",
              "      <th>19</th>\n",
              "      <td>Pune Warriors</td>\n",
              "      <td>fields</td>\n",
              "      <td>11</td>\n",
              "    </tr>\n",
              "    <tr>\n",
              "      <th>20</th>\n",
              "      <td>Sunrisers Hyderabad</td>\n",
              "      <td>bat</td>\n",
              "      <td>24</td>\n",
              "    </tr>\n",
              "    <tr>\n",
              "      <th>21</th>\n",
              "      <td>Sunrisers Hyderabad</td>\n",
              "      <td>fields</td>\n",
              "      <td>24</td>\n",
              "    </tr>\n",
              "    <tr>\n",
              "      <th>22</th>\n",
              "      <td>Gujarat Lions</td>\n",
              "      <td>bat</td>\n",
              "      <td>1</td>\n",
              "    </tr>\n",
              "    <tr>\n",
              "      <th>23</th>\n",
              "      <td>Gujarat Lions</td>\n",
              "      <td>fields</td>\n",
              "      <td>1</td>\n",
              "    </tr>\n",
              "    <tr>\n",
              "      <th>24</th>\n",
              "      <td>Rising Pune Supergiants</td>\n",
              "      <td>bat</td>\n",
              "      <td>3</td>\n",
              "    </tr>\n",
              "    <tr>\n",
              "      <th>25</th>\n",
              "      <td>Rising Pune Supergiants</td>\n",
              "      <td>fields</td>\n",
              "      <td>3</td>\n",
              "    </tr>\n",
              "    <tr>\n",
              "      <th>26</th>\n",
              "      <td>Rising Pune Supergiant</td>\n",
              "      <td>bat</td>\n",
              "      <td>0</td>\n",
              "    </tr>\n",
              "    <tr>\n",
              "      <th>27</th>\n",
              "      <td>Rising Pune Supergiant</td>\n",
              "      <td>fields</td>\n",
              "      <td>0</td>\n",
              "    </tr>\n",
              "    <tr>\n",
              "      <th>28</th>\n",
              "      <td>Delhi Capitals</td>\n",
              "      <td>bat</td>\n",
              "      <td>7</td>\n",
              "    </tr>\n",
              "    <tr>\n",
              "      <th>29</th>\n",
              "      <td>Delhi Capitals</td>\n",
              "      <td>fields</td>\n",
              "      <td>7</td>\n",
              "    </tr>\n",
              "  </tbody>\n",
              "</table>\n",
              "</div>"
            ],
            "text/plain": [
              "                    Toss Winner Decision Times\n",
              "0   Royal Challengers Bangalore      bat    24\n",
              "1   Royal Challengers Bangalore   fields    24\n",
              "2           Chennai Super Kings      bat    51\n",
              "3           Chennai Super Kings   fields    51\n",
              "4              Rajasthan Royals      bat    34\n",
              "5              Rajasthan Royals   fields    34\n",
              "6                Mumbai Indians      bat    48\n",
              "7                Mumbai Indians   fields    48\n",
              "8               Deccan Chargers      bat    24\n",
              "9               Deccan Chargers   fields    24\n",
              "10              Kings XI Punjab      bat    27\n",
              "11              Kings XI Punjab   fields    27\n",
              "12        Kolkata Knight Riders      bat    34\n",
              "13        Kolkata Knight Riders   fields    34\n",
              "14             Delhi Daredevils      bat    29\n",
              "15             Delhi Daredevils   fields    29\n",
              "16         Kochi Tuskers Kerala      bat     3\n",
              "17         Kochi Tuskers Kerala   fields     3\n",
              "18                Pune Warriors      bat    11\n",
              "19                Pune Warriors   fields    11\n",
              "20          Sunrisers Hyderabad      bat    24\n",
              "21          Sunrisers Hyderabad   fields    24\n",
              "22                Gujarat Lions      bat     1\n",
              "23                Gujarat Lions   fields     1\n",
              "24      Rising Pune Supergiants      bat     3\n",
              "25      Rising Pune Supergiants   fields     3\n",
              "26       Rising Pune Supergiant      bat     0\n",
              "27       Rising Pune Supergiant   fields     0\n",
              "28               Delhi Capitals      bat     7\n",
              "29               Delhi Capitals   fields     7"
            ]
          },
          "metadata": {
            "tags": []
          },
          "execution_count": 20
        }
      ]
    },
    {
      "cell_type": "code",
      "metadata": {
        "id": "yfM5JdGHfk5Y",
        "colab": {
          "base_uri": "https://localhost:8080/",
          "height": 533
        },
        "outputId": "a6aaf80f-6d94-457b-d1e0-258a20c01838"
      },
      "source": [
        "sns.catplot(x = 'Toss Winner', y = 'Times', hue = 'Decision', data = decision_making, kind ='bar', height= 5, aspect= 2)\n",
        "plt.xticks(rotation = 90)\n",
        "plt.title(\"Toss Decision of Teams\")\n",
        "plt.xlabel('IPL Decision')\n",
        "plt.ylabel(\"Toss Decision\")\n",
        "plt.show()"
      ],
      "execution_count": null,
      "outputs": [
        {
          "output_type": "display_data",
          "data": {
            "image/png": "[encoded data removed]",
            "text/plain": [
              "<Figure size 783.125x360 with 1 Axes>"
            ]
          },
          "metadata": {
            "tags": [],
            "needs_background": "light"
          }
        }
      ]
    },
    {
      "cell_type": "markdown",
      "metadata": {
        "id": "S6yEiHNWIBZz"
      },
      "source": [
        "### Famous Venue"
      ]
    },
    {
      "cell_type": "code",
      "metadata": {
        "id": "TmRKKc8ffk9A",
        "colab": {
          "base_uri": "https://localhost:8080/"
        },
        "outputId": "59d33121-084a-4a72-e91c-372668857688"
      },
      "source": [
        "df['venue'].value_counts()"
      ],
      "execution_count": null,
      "outputs": [
        {
          "output_type": "execute_result",
          "data": {
            "text/plain": [
              "Eden Gardens                                            77\n",
              "Feroz Shah Kotla                                        74\n",
              "Wankhede Stadium                                        73\n",
              "M Chinnaswamy Stadium                                   65\n",
              "Rajiv Gandhi International Stadium, Uppal               64\n",
              "MA Chidambaram Stadium, Chepauk                         57\n",
              "Sawai Mansingh Stadium                                  47\n",
              "Punjab Cricket Association Stadium, Mohali              35\n",
              "Dubai International Cricket Stadium                     33\n",
              "Sheikh Zayed Stadium                                    29\n",
              "Punjab Cricket Association IS Bindra Stadium, Mohali    21\n",
              "Maharashtra Cricket Association Stadium                 21\n",
              "Sharjah Cricket Stadium                                 18\n",
              "Dr DY Patil Sports Academy                              17\n",
              "Subrata Roy Sahara Stadium                              17\n",
              "Kingsmead                                               15\n",
              "M.Chinnaswamy Stadium                                   15\n",
              "Dr. Y.S. Rajasekhara Reddy ACA-VDCA Cricket Stadium     13\n",
              "Sardar Patel Stadium, Motera                            12\n",
              "SuperSport Park                                         12\n",
              "Brabourne Stadium                                       11\n",
              "Saurashtra Cricket Association Stadium                  10\n",
              "Holkar Cricket Stadium                                   9\n",
              "Himachal Pradesh Cricket Association Stadium             9\n",
              "New Wanderers Stadium                                    8\n",
              "Newlands                                                 7\n",
              "St George's Park                                         7\n",
              "Barabati Stadium                                         7\n",
              "JSCA International Stadium Complex                       7\n",
              "Shaheed Veer Narayan Singh International Stadium         6\n",
              "Nehru Stadium                                            5\n",
              "Green Park                                               4\n",
              "Buffalo Park                                             3\n",
              "De Beers Diamond Oval                                    3\n",
              "Vidarbha Cricket Association Stadium, Jamtha             3\n",
              "OUTsurance Oval                                          2\n",
              "Name: venue, dtype: int64"
            ]
          },
          "metadata": {
            "tags": []
          },
          "execution_count": 35
        }
      ]
    },
    {
      "cell_type": "code",
      "metadata": {
        "id": "Qi2VYrvdflAs",
        "colab": {
          "base_uri": "https://localhost:8080/",
          "height": 513
        },
        "outputId": "83ac7a06-c098-4783-dc08-9711064d8690"
      },
      "source": [
        "#Here we visualize the top 10 venues\n",
        "plt.figure(figsize = (12,8))\n",
        "sns.barplot(df['venue'].value_counts().head(10).values, y = df['venue'].value_counts().head(10).index, data = df)\n",
        "plt.title(\"Famous Title\")\n",
        "plt.xlabel('Venue Count')\n",
        "plt.ylabel(\"Venue\")\n",
        "plt.show()"
      ],
      "execution_count": null,
      "outputs": [
        {
          "output_type": "display_data",
          "data": {
            "image/png": "[encoded data removed]",
            "text/plain": [
              "<Figure size 864x576 with 1 Axes>"
            ]
          },
          "metadata": {
            "tags": [],
            "needs_background": "light"
          }
        }
      ]
    },
    {
      "cell_type": "markdown",
      "metadata": {
        "id": "Ned2kFYEJHYK"
      },
      "source": [
        "* From the above plot we observe that most famous venue for IPL mathes are 'Eden Gardens', 'Feroz Shah Kotla', 'Wankhede Stadium'"
      ]
    },
    {
      "cell_type": "code",
      "metadata": {
        "colab": {
          "base_uri": "https://localhost:8080/"
        },
        "id": "j7njHUWnK18J",
        "outputId": "6e089543-c011-4070-b77f-df8961399587"
      },
      "source": [
        "df['umpire1'].value_counts()"
      ],
      "execution_count": null,
      "outputs": [
        {
          "output_type": "execute_result",
          "data": {
            "text/plain": [
              "HDPK Dharmasena          78\n",
              "AK Chaudhary             56\n",
              "Asad Rauf                51\n",
              "M Erasmus                40\n",
              "Aleem Dar                38\n",
              "BF Bowden                37\n",
              "S Ravi                   37\n",
              "CB Gaffaney              34\n",
              "BR Doctrove              34\n",
              "KN Ananthapadmanabhan    33\n",
              "AY Dandekar              28\n",
              "C Shamshuddin            22\n",
              "NJ Llong                 21\n",
              "RE Koertzen              20\n",
              "Nitin Menon              20\n",
              "VA Kulkarni              19\n",
              "S Asnani                 19\n",
              "BNJ Oxenford             16\n",
              "JD Cloete                16\n",
              "YC Barde                 14\n",
              "A Nand Kishore           14\n",
              "RK Illingworth           13\n",
              "BG Jerling               13\n",
              "SS Hazare                11\n",
              "K Hariharan              10\n",
              "S Das                    10\n",
              "MR Benson                10\n",
              "DJ Harper                 9\n",
              "CK Nandan                 8\n",
              "UV Gandhe                 8\n",
              "IL Howell                 7\n",
              "RM Deshpande              7\n",
              "GAV Baxter                7\n",
              "VK Sharma                 6\n",
              "SJ Davis                  6\n",
              "RJ Tucker                 5\n",
              "A Deshmukh                5\n",
              "SD Fry                    5\n",
              "SK Tarapore               5\n",
              "PR Reiffel                5\n",
              "PG Pathak                 4\n",
              "AM Saheba                 3\n",
              "IJ Gould                  3\n",
              "K Bharatan                3\n",
              "AV Jayaprakash            2\n",
              "K Srinath                 2\n",
              "SJA Taufel                1\n",
              "SL Shastri                1\n",
              "Name: umpire1, dtype: int64"
            ]
          },
          "metadata": {
            "tags": []
          },
          "execution_count": 40
        }
      ]
    },
    {
      "cell_type": "code",
      "metadata": {
        "id": "SOMXJpGNflEP",
        "colab": {
          "base_uri": "https://localhost:8080/",
          "height": 513
        },
        "outputId": "3f44c4ee-ca4f-4589-bbb0-ad5138ac16a6"
      },
      "source": [
        "#Let's see the Top 5 Umpire_1\n",
        "plt.figure(figsize = (10,8))\n",
        "sns.barplot(x = df['umpire1'].value_counts().head(10).values,\n",
        "            y = df['umpire1'].value_counts().head(10).index, data = df)\n",
        "plt.xlabel(\"Umpire 1\")\n",
        "plt.ylabel(\"Match Count\")\n",
        "plt.title(\"Top Umpire_1\")\n",
        "plt.show()"
      ],
      "execution_count": null,
      "outputs": [
        {
          "output_type": "display_data",
          "data": {
            "image/png": "[encoded data removed]",
            "text/plain": [
              "<Figure size 720x576 with 1 Axes>"
            ]
          },
          "metadata": {
            "tags": [],
            "needs_background": "light"
          }
        }
      ]
    },
    {
      "cell_type": "markdown",
      "metadata": {
        "id": "fHbD46onLriO"
      },
      "source": [
        "* From the above plot we can say that top umpire 1 is 'HDPK Dharmasena', 'AK Chaudhary'."
      ]
    },
    {
      "cell_type": "code",
      "metadata": {
        "id": "o8V9IxanL_3C"
      },
      "source": [
        ""
      ],
      "execution_count": null,
      "outputs": []
    },
    {
      "cell_type": "code",
      "metadata": {
        "id": "4F2rGYWHflHM",
        "colab": {
          "base_uri": "https://localhost:8080/"
        },
        "outputId": "f8d94290-66e0-423c-8bd3-3a76120bd31e"
      },
      "source": [
        "#Let's see the Top 5 Umpire_2\n",
        "df['umpire2'].value_counts()"
      ],
      "execution_count": null,
      "outputs": [
        {
          "output_type": "execute_result",
          "data": {
            "text/plain": [
              "S Ravi             84\n",
              "C Shamshuddin      60\n",
              "SJA Taufel         54\n",
              "CK Nandan          49\n",
              "RJ Tucker          41\n",
              "Nitin Menon        37\n",
              "BNJ Oxenford       32\n",
              "VA Kulkarni        31\n",
              "AK Chaudhary       31\n",
              "RB Tiffin          30\n",
              "SK Tarapore        26\n",
              "M Erasmus          25\n",
              "AM Saheba          23\n",
              "RE Koertzen        21\n",
              "VK Sharma          20\n",
              "PR Reiffel         19\n",
              "DJ Harper          18\n",
              "RK Illingworth     18\n",
              "HDPK Dharmasena    16\n",
              "NJ Llong           16\n",
              "SL Shastri         13\n",
              "CB Gaffaney        13\n",
              "K Srinath          13\n",
              "S Asnani           11\n",
              "A Nand Kishore     11\n",
              "K Hariharan        11\n",
              "BR Doctrove         8\n",
              "A Deshmukh          7\n",
              "IL Howell           7\n",
              "PG Pathak           7\n",
              "K Srinivasan        6\n",
              "SS Hazare           6\n",
              "I Shivram           6\n",
              "AL Hill             6\n",
              "GA Pratapkumar      6\n",
              "YC Barde            5\n",
              "S Das               5\n",
              "TH Wijewardene      5\n",
              "BG Jerling          4\n",
              "AV Jayaprakash      4\n",
              "IJ Gould            3\n",
              "MR Benson           2\n",
              "SD Ranade           2\n",
              "JD Cloete           1\n",
              "Subroto Das         1\n",
              "SD Fry              1\n",
              "SJ Davis            1\n",
              "Name: umpire2, dtype: int64"
            ]
          },
          "metadata": {
            "tags": []
          },
          "execution_count": 41
        }
      ]
    },
    {
      "cell_type": "code",
      "metadata": {
        "id": "IU-fbfBBfrgn",
        "colab": {
          "base_uri": "https://localhost:8080/",
          "height": 513
        },
        "outputId": "98e6e85f-987c-48ba-fff3-8e1911c1bf8c"
      },
      "source": [
        "#Let's see the Top 5 Umpire_1\n",
        "plt.figure(figsize = (10,8))\n",
        "sns.barplot(x = df['umpire2'].value_counts().head(10).values,\n",
        "            y = df['umpire2'].value_counts().head(10).index, data = df)\n",
        "plt.xlabel(\"Umpire 2\")\n",
        "plt.ylabel(\"Match Count\")\n",
        "plt.title(\"Top Umpire_2\")\n",
        "plt.show()"
      ],
      "execution_count": null,
      "outputs": [
        {
          "output_type": "display_data",
          "data": {
            "image/png": "[encoded data removed]",
            "text/plain": [
              "<Figure size 720x576 with 1 Axes>"
            ]
          },
          "metadata": {
            "tags": [],
            "needs_background": "light"
          }
        }
      ]
    },
    {
      "cell_type": "markdown",
      "metadata": {
        "id": "qJagiK83MDJg"
      },
      "source": [
        "* From the above plot we can say that top umpire 2 is 'S Ravi', 'C Shamshuddin'."
      ]
    },
    {
      "cell_type": "code",
      "metadata": {
        "id": "OgXsmgnMfr2j"
      },
      "source": [
        ""
      ],
      "execution_count": null,
      "outputs": []
    },
    {
      "cell_type": "code",
      "metadata": {
        "id": "YcisPjG6fr5g"
      },
      "source": [
        ""
      ],
      "execution_count": null,
      "outputs": []
    },
    {
      "cell_type": "code",
      "metadata": {
        "id": "_m0H58U8fr9P"
      },
      "source": [
        ""
      ],
      "execution_count": null,
      "outputs": []
    }
  ]
}